{
  "nbformat": 4,
  "nbformat_minor": 0,
  "metadata": {
    "colab": {
      "provenance": [],
      "authorship_tag": "ABX9TyPSyAIfYIinDPIYxkveQb98",
      "include_colab_link": true
    },
    "kernelspec": {
      "name": "python3",
      "display_name": "Python 3"
    },
    "language_info": {
      "name": "python"
    }
  },
  "cells": [
    {
      "cell_type": "markdown",
      "metadata": {
        "id": "view-in-github",
        "colab_type": "text"
      },
      "source": [
        "<a href=\"https://colab.research.google.com/github/heya2312/txt12/blob/main/%E3%83%A1%E3%83%A2%E5%B8%B3%E3%81%8B%E3%82%89%E3%82%A8%E3%82%AF%E3%82%BB%E3%83%AB.ipynb\" target=\"_parent\"><img src=\"https://colab.research.google.com/assets/colab-badge.svg\" alt=\"Open In Colab\"/></a>"
      ]
    },
    {
      "cell_type": "code",
      "execution_count": null,
      "metadata": {
        "id": "JyT-KohSqrq3"
      },
      "outputs": [],
      "source": [
        "from openpyxl import Workbook\n",
        "from pathlib import Path\n",
        "\n",
        "file_path = Path(r\"C:\\Users\\tsuna\\OneDrive\\anime.txt\")\n",
        "ex_path = Path(r\"C:\\python練習\\新しい練習.xlsx\")  # 新しいファイル名\n",
        "\n",
        "with open(file_path, 'r', encoding='utf-8') as fout:\n",
        "    lines = fout.readlines()\n",
        "\n",
        "# 新しいWorkbookオブジェクトを作成\n",
        "wb = Workbook()\n",
        "ws = wb.active\n",
        "\n",
        "row_index = 1\n",
        "for line in lines:\n",
        "    ws.cell(row=row_index, column=1, value=line.strip())  # テキストを1列目に書き込み\n",
        "    row_index += 1\n",
        "\n",
        "# 新しいエクセルファイルを保存\n",
        "wb.save(ex_path)\n",
        "\n",
        "print(\"テキストが新しいExcelファイルに書き込まれました。\")"
      ]
    }
  ]
}