{
  "nbformat": 4,
  "nbformat_minor": 0,
  "metadata": {
    "colab": {
      "provenance": [],
      "authorship_tag": "ABX9TyOyrVo2Tea/kKGN+0XVxD3/",
      "include_colab_link": true
    },
    "kernelspec": {
      "name": "python3",
      "display_name": "Python 3"
    },
    "language_info": {
      "name": "python"
    }
  },
  "cells": [
    {
      "cell_type": "markdown",
      "metadata": {
        "id": "view-in-github",
        "colab_type": "text"
      },
      "source": [
        "<a href=\"https://colab.research.google.com/github/heya2312/txt12/blob/main/%E5%9B%9E%E6%96%87%E6%95%B0%E4%BD%9C%E6%88%90.ipynb\" target=\"_parent\"><img src=\"https://colab.research.google.com/assets/colab-badge.svg\" alt=\"Open In Colab\"/></a>"
      ]
    },
    {
      "cell_type": "code",
      "execution_count": null,
      "metadata": {
        "id": "pmrDNEZrHtSJ"
      },
      "outputs": [],
      "source": [
        "N = int(input())\n",
        "number = N\n",
        "def join(lst):\n",
        "    return ''.join(map(str, lst))\n",
        "while True:\n",
        "  mylist = []\n",
        "  mylist_1 = []\n",
        "  for digit in str(number):\n",
        "     mylist.append(digit)\n",
        "  for i in range(len(mylist)):\n",
        "    mylist_1.append(mylist[len(mylist)-1-i])\n",
        "  if mylist == mylist_1:\n",
        "     num = join(mylist)\n",
        "     print(num)\n",
        "     break\n",
        "  else:\n",
        "     num_1 = int(join(mylist))\n",
        "     num_2 = int(join(mylist_1))\n",
        "     number = num_1 + num_2"
      ]
    }
  ]
}