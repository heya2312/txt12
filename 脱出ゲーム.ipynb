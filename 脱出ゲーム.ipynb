{
  "nbformat": 4,
  "nbformat_minor": 0,
  "metadata": {
    "colab": {
      "provenance": [],
      "authorship_tag": "ABX9TyOB0Y5rA902uPrKKbAoue6v",
      "include_colab_link": true
    },
    "kernelspec": {
      "name": "python3",
      "display_name": "Python 3"
    },
    "language_info": {
      "name": "python"
    }
  },
  "cells": [
    {
      "cell_type": "markdown",
      "metadata": {
        "id": "view-in-github",
        "colab_type": "text"
      },
      "source": [
        "<a href=\"https://colab.research.google.com/github/heya2312/txt12/blob/main/%E8%84%B1%E5%87%BA%E3%82%B2%E3%83%BC%E3%83%A0.ipynb\" target=\"_parent\"><img src=\"https://colab.research.google.com/assets/colab-badge.svg\" alt=\"Open In Colab\"/></a>"
      ]
    },
    {
      "cell_type": "code",
      "execution_count": null,
      "metadata": {
        "id": "oLMtmkyKn2xg"
      },
      "outputs": [],
      "source": [
        "def is_valid(x, y, H, W):\n",
        "    return 0 <= x < H and 0 <= y < W\n",
        "\n",
        "def can_escape(mylist, start_x, start_y):\n",
        "    H = len(mylist)\n",
        "    W = len(mylist[0])\n",
        "    visited = [[False] * W for _ in range(H)]\n",
        "\n",
        "    queue = [(start_x, start_y)]\n",
        "    visited[start_x][start_y] = True\n",
        "\n",
        "    while queue:\n",
        "        x, y = queue.pop(0)\n",
        "\n",
        "        if mylist[x][y] == 'G':\n",
        "            return True\n",
        "\n",
        "        for dx, dy in directions:\n",
        "            new_x = x + dx\n",
        "            new_y = y + dy\n",
        "\n",
        "            if is_valid(new_x, new_y, H, W) and not visited[new_x][new_y] and mylist[new_x][new_y] != '#':\n",
        "                queue.append((new_x, new_y))\n",
        "                visited[new_x][new_y] = True\n",
        "\n",
        "    return False\n",
        "\n",
        "\n",
        "directions = [(0, 1), (0, -1), (1, 0), (-1, 0)]\n",
        "\n",
        "H, W = map(int, input().split())\n",
        "mylist = [list(input()) for _ in range(H)]\n",
        "\n",
        "start_x, start_y = -1, -1\n",
        "for x in range(H):\n",
        "    for y in range(W):\n",
        "        if mylist[x][y] == 'S':\n",
        "            start_x, start_y = x, y\n",
        "            break\n",
        "\n",
        "if can_escape(mylist, start_x, start_y):\n",
        "    print(\"YES\")\n",
        "else:\n",
        "    print(\"NO\")"
      ]
    }
  ]
}